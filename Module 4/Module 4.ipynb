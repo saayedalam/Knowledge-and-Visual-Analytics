{
 "cells": [
  {
   "cell_type": "markdown",
   "metadata": {},
   "source": [
    "### Saayed Alam\n",
    "### Assignment 4\n",
    "#### October 24, 2019\n",
    "\n",
    "In this assignment I’ll be looking at data from the [New York City tree census.](https://data.cityofnewyork.us/Environment/2015-Street-Tree-Census-Tree-Data/uvpi-gqnh) This data is collected by volunteers across the city, and is meant to catalog information about every single tree in the city. I will build a dash app for a arborist studying the health of various tree species (as defined by the variable ‘spc_common’) across each borough (defined by the variable ‘borough’). This arborist would like to answer the following two questions for each species and in each borough:"
   ]
  },
  {
   "cell_type": "code",
   "execution_count": 62,
   "metadata": {},
   "outputs": [],
   "source": [
    "# load libraries\n",
    "import pandas as pd\n",
    "import numpy as np\n",
    "import plotly.express as px\n",
    "import dash\n",
    "from dash.dependencies import Input, Output\n",
    "import dash_core_components as dcc\n",
    "import dash_html_components as html"
   ]
  },
  {
   "cell_type": "code",
   "execution_count": 63,
   "metadata": {},
   "outputs": [],
   "source": [
    "# load data using query\n",
    "query = (\"https://data.cityofnewyork.us/resource/uvpi-gqnh.json?\"\n",
    "         \"$select=spc_common,boroname,health,steward,count(tree_id)\"\n",
    "         \"&$group=spc_common,boroname,health,steward\")\n",
    "\n",
    "df = pd.read_json(query)\n",
    "\n",
    "# drop rows with any missing values\n",
    "df.dropna(inplace = True)"
   ]
  },
  {
   "cell_type": "markdown",
   "metadata": {},
   "source": [
    "**What proportion of trees are in good, fair, or poor health according to the ‘health’ variable?**"
   ]
  },
  {
   "cell_type": "code",
   "execution_count": null,
   "metadata": {},
   "outputs": [
    {
     "name": "stdout",
     "output_type": "stream",
     "text": [
      " * Serving Flask app \"__main__\" (lazy loading)\n",
      " * Environment: production\n",
      "   WARNING: Do not use the development server in a production environment.\n",
      "   Use a production WSGI server instead.\n",
      " * Debug mode: off\n"
     ]
    }
   ],
   "source": [
    "external_stylesheets = ['https://codepen.io/chriddyp/pen/bWLwgP.css']\n",
    "\n",
    "app = dash.Dash(__name__, external_stylesheets = external_stylesheets)\n",
    "\n",
    "app.layout = html.Div([\n",
    "    html.H1('Health of A Species Across Boroughs'),\n",
    "    \n",
    "    dcc.Dropdown(\n",
    "        id = 'species',\n",
    "        options = [{'label': i, 'value': i} for i in df['spc_common'].unique()],\n",
    "        placeholder = 'Select A Species'\n",
    "    ),\n",
    "    \n",
    "    dcc.Graph(\n",
    "        id = 'graph'    \n",
    "    )\n",
    "    \n",
    "])\n",
    "\n",
    "@app.callback(\n",
    "    Output('graph', 'figure'),\n",
    "    [Input('species', 'value')])\n",
    "\n",
    "\n",
    "def species_health(species):\n",
    "    dff = df[df['spc_common'] == species]\n",
    "    \n",
    "    figure = {\n",
    "            'data': [\n",
    "                {'x': dff.boroname[dff['health'] == 'Good'], 'y': dff.count_tree_id[dff['health'] == 'Good'], 'type': 'bar', 'name': 'Good'},\n",
    "                {'x': dff.boroname[dff['health'] == 'Fair'], 'y': dff.count_tree_id[dff['health'] == 'Fair'], 'type': 'bar', 'name': 'Fair'},\n",
    "                {'x': dff.boroname[dff['health'] == 'Poor'], 'y': dff.count_tree_id[dff['health'] == 'Poor'], 'type': 'bar', 'name': 'Poor'}\n",
    "            ]\n",
    "        }\n",
    "    return figure \n",
    "\n",
    "\n",
    "if __name__ == '__main__':\n",
    "    app.run_server()"
   ]
  },
  {
   "cell_type": "markdown",
   "metadata": {},
   "source": [
    "**Are stewards (steward activity measured by the ‘steward’ variable) having an impact on the health of trees?**"
   ]
  },
  {
   "cell_type": "code",
   "execution_count": 66,
   "metadata": {},
   "outputs": [
    {
     "name": "stdout",
     "output_type": "stream",
     "text": [
      " * Serving Flask app \"__main__\" (lazy loading)\n",
      " * Environment: production\n",
      "   WARNING: Do not use the development server in a production environment.\n",
      "   Use a production WSGI server instead.\n",
      " * Debug mode: off\n"
     ]
    },
    {
     "name": "stderr",
     "output_type": "stream",
     "text": [
      "C:\\Users\\saaye\\Anaconda3\\lib\\site-packages\\ipykernel_launcher.py:35: UserWarning:\n",
      "\n",
      "Boolean Series key will be reindexed to match DataFrame index.\n",
      "\n"
     ]
    }
   ],
   "source": [
    "external_stylesheets = ['https://codepen.io/chriddyp/pen/bWLwgP.css']\n",
    "\n",
    "app = dash.Dash(__name__, external_stylesheets = external_stylesheets)\n",
    "\n",
    "app.layout = html.Div([\n",
    "    html.H1('Impact of Steward on The Health of A Species Across Boroughs'),\n",
    "    \n",
    "    dcc.Dropdown(\n",
    "        id = 'species',\n",
    "        options = [{'label': i, 'value': i} for i in df['spc_common'].unique()],\n",
    "        value= 'Norway maple',\n",
    "        clearable = False\n",
    "    ),\n",
    "    \n",
    "    dcc.Dropdown(\n",
    "        id = 'boro',\n",
    "        options = [{'label': i, 'value': i} for i in df['boroname'].unique()],\n",
    "        value= 'Queens',\n",
    "        clearable = False\n",
    "    ),\n",
    "    \n",
    "    dcc.Graph(\n",
    "        id = 'graph'    \n",
    "    )\n",
    "    \n",
    "])\n",
    "\n",
    "@app.callback(\n",
    "    Output('graph', 'figure'),\n",
    "    [Input('species', 'value'), Input('boro', 'value')])\n",
    "\n",
    "\n",
    "def species_steward(species, boro):\n",
    "    dff = df[df['spc_common'] == species]\n",
    "    dfff = dff[df['boroname'] == boro]\n",
    "    \n",
    "    figure = {\n",
    "            'data': [\n",
    "                {'x': dfff.steward[dfff['health'] == 'Good'], 'y': dfff.count_tree_id[dfff['health'] == 'Good'], 'type': 'bar', 'name': 'Good'},\n",
    "                {'x': dfff.steward[dff['health'] == 'Fair'], 'y': dfff.count_tree_id[dfff['health'] == 'Fair'], 'type': 'bar', 'name': 'Fair'},\n",
    "                {'x': dfff.steward[dfff['health'] == 'Poor'], 'y': dfff.count_tree_id[dfff['health'] == 'Poor'], 'type': 'bar', 'name': 'Poor'}\n",
    "            ]\n",
    "        }\n",
    "    return figure \n",
    "\n",
    "\n",
    "if __name__ == '__main__':\n",
    "    app.run_server()"
   ]
  }
 ],
 "metadata": {
  "kernelspec": {
   "display_name": "Python 3",
   "language": "python",
   "name": "python3"
  },
  "language_info": {
   "codemirror_mode": {
    "name": "ipython",
    "version": 3
   },
   "file_extension": ".py",
   "mimetype": "text/x-python",
   "name": "python",
   "nbconvert_exporter": "python",
   "pygments_lexer": "ipython3",
   "version": "3.7.1"
  }
 },
 "nbformat": 4,
 "nbformat_minor": 2
}
